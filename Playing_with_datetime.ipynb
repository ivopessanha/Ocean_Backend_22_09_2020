{
  "nbformat": 4,
  "nbformat_minor": 0,
  "metadata": {
    "colab": {
      "name": "Playing with datetime.ipynb",
      "provenance": [],
      "authorship_tag": "ABX9TyNJIogXpe2Cy59mqCcAwTZl",
      "include_colab_link": true
    },
    "kernelspec": {
      "name": "python3",
      "display_name": "Python 3"
    }
  },
  "cells": [
    {
      "cell_type": "markdown",
      "metadata": {
        "id": "view-in-github",
        "colab_type": "text"
      },
      "source": [
        "<a href=\"https://colab.research.google.com/github/ivopessanha/Ocean_Backend_22_09_2020/blob/master/Playing_with_datetime.ipynb\" target=\"_parent\"><img src=\"https://colab.research.google.com/assets/colab-badge.svg\" alt=\"Open In Colab\"/></a>"
      ]
    },
    {
      "cell_type": "code",
      "metadata": {
        "id": "eIOeIkazaIuM",
        "outputId": "e2615507-9370-4072-ad96-79c066563ecd",
        "colab": {
          "base_uri": "https://localhost:8080/",
          "height": 34
        }
      },
      "source": [
        "from datetime import datetime as dt\n",
        "\n",
        "right_now = dt.now()\n",
        "\n",
        "sys_year = right_now.year\n",
        "sys_month = right_now.month\n",
        "sys_day = right_now.day\n",
        "\n",
        "sys_hour = right_now.hour\n",
        "sys_minute = right_now.minute\n",
        "sys_second = right_now.second\n",
        "\n",
        "print(f\"Right now date and time: {sys_day}/{sys_month}/{sys_year} - {sys_hour}h{sys_minute}'{sys_second}\")"
      ],
      "execution_count": 26,
      "outputs": [
        {
          "output_type": "stream",
          "text": [
            "Right now date and time: 28/9/2020 - 21h3'27\n"
          ],
          "name": "stdout"
        }
      ]
    },
    {
      "cell_type": "code",
      "metadata": {
        "id": "3raNA7WWcG-R",
        "outputId": "73803bee-3276-434d-ed62-18e701e4bb6b",
        "colab": {
          "base_uri": "https://localhost:8080/",
          "height": 136
        }
      },
      "source": [
        "print(\"Please, enter your one date\\n\")\n",
        "user_year = int(input(\"Informe a year (YYYY)\"))\n",
        "user_month = int(input(\"Informe a month (MM)\"))\n",
        "user_day = int(input(\"Informe a day (DD)\"))\n",
        "\n",
        "print(f\"\\n{user_day}/{user_month}/{user_year}\")"
      ],
      "execution_count": 30,
      "outputs": [
        {
          "output_type": "stream",
          "text": [
            "Please, enter your one date\n",
            "\n",
            "Informe a year (YYYY)2020\n",
            "Informe a month (MM)05\n",
            "Informe a day (DD)23\n",
            "\n",
            "23/5/2020\n"
          ],
          "name": "stdout"
        }
      ]
    },
    {
      "cell_type": "code",
      "metadata": {
        "id": "uQeWWeVUdKUG",
        "outputId": "ff9e7c53-427b-44e9-9a42-7996a104468d",
        "colab": {
          "base_uri": "https://localhost:8080/",
          "height": 68
        }
      },
      "source": [
        "user_date = dt(user_year, user_month, user_day)\n",
        "\n",
        "weekdays_list = [\"Monday\", \"Tuesday\", \"Wednesday\", \n",
        "                 \"Thursday\", \"Friday\", \"Saturday\", \n",
        "                 \"Sunday\"]\n",
        "\n",
        "weekday = weekdays_list[user_date.weekday()]\n",
        "\n",
        "print(f\"The informed date is: {user_date.day:02}/{user_date.month:02}/{user_date:04} - Weekday: {weekday}\\n\")\n",
        "print(f\"The time interval between this two dates are: {(right_now - user_date).days} days.\" )"
      ],
      "execution_count": 37,
      "outputs": [
        {
          "output_type": "stream",
          "text": [
            "The informed date is: 23/05/04 - Weekday: Saturday\n",
            "\n",
            "The time interval between this two dates are: 128 days.\n"
          ],
          "name": "stdout"
        }
      ]
    },
    {
      "cell_type": "code",
      "metadata": {
        "id": "BYSw3HlVlySo"
      },
      "source": [
        ""
      ],
      "execution_count": null,
      "outputs": []
    }
  ]
}